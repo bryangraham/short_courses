{
 "cells": [
  {
   "cell_type": "markdown",
   "metadata": {},
   "source": [
    "# Notebook 1: Describing network data\n",
    "#### Econometric Methods for Social Spillovers and Networks\n",
    "#### University of St. Gallen, September 28th to October 6th, 2020\n",
    "##### _Bryan S. Graham, UC - Berkeley, bgraham@econ.berkeley.edu_\n",
    "This is the first of a series of iPython Jupyter notebooks designed to accompany a series of instructional lectures given (virtually!) at the St. Gallen University from September 28th and October 6th, 2020. The scripts below were written for Python 3.6. The Anaconda distribution of Python, available at https://www.continuum.io/downloads, comes bundled with most the scientific computing packages used in these notebooks.\n",
    "<br>\n",
    "<br>\n",
    "For more information about the course please visit my webpage at http://bryangraham.github.io/econometrics/.\n",
    "NOTE: Notebook updated in November 2021."
   ]
  },
  {
   "cell_type": "markdown",
   "metadata": {},
   "source": [
    "#### Code citation    \n",
    "Graham, Bryan S. (2020). \"Notebook 1: Describing network data: St. Gallen University Econometric Methods for Social Spillovers and Networks Course Jupyter Notebook,\" (Version 1.0) [Computer program]. Available at http://bryangraham.github.io/econometrics/ (Accessed 20 December 2020)"
   ]
  },
  {
   "cell_type": "markdown",
   "metadata": {},
   "source": [
    "I begin by importing several key packages. The _numpy_ and _scipy_ libraries include a core set of scientific computing tools. The _pandas_ package is useful for data organization and analysis, while _matplotlib_ is Python's basic plotting add-on. Finally the _networkx_ package includes functionality for analysis, and also visualizing, network data."
   ]
  },
  {
   "cell_type": "code",
   "execution_count": 1,
   "metadata": {},
   "outputs": [],
   "source": [
    "# Direct Python to plot all figures inline (i.e., not in a separate window)\n",
    "%matplotlib inline\n",
    "\n",
    "# Main scientific computing modules\n",
    "import numpy as np\n",
    "import scipy as sp\n",
    "import pandas as pd\n",
    "\n",
    "# Import matplotlib \n",
    "import matplotlib.pyplot as plt\n",
    "\n",
    "# networkx module for the analysis of network data\n",
    "import networkx as nx"
   ]
  },
  {
   "cell_type": "markdown",
   "metadata": {},
   "source": [
    "The following code snippet should be edited to point to wherever you have saved the instructional datasets used in the book and/or want to store the figures generated in this notebook. The \"data\" string points to where the data files are saved. The \"graphics\" string points to where the figures generated below are saved.\n",
    "<br>\n",
    "<br>\n",
    "Since these notesbooks are revisions of those intitially prepared for the 2018 version of the course at St. Gallen University you can find the instructural datasets in the GitHub folder for that course."
   ]
  },
  {
   "cell_type": "code",
   "execution_count": 2,
   "metadata": {},
   "outputs": [],
   "source": [
    "# Directory where graphics files will be saved\n",
    "data =     '/Users/bgraham/Dropbox/Teaching/Short_Courses/St_Gallen/2018/Data/'\n",
    "graphics = '/Users/bgraham/Dropbox/Teaching/Short_Courses/St_Gallen/2018/Graphics/'"
   ]
  },
  {
   "cell_type": "markdown",
   "metadata": {},
   "source": [
    "To introduce some basic ideas of network analysis as well as associated Python functionality we will use the Nyakatoke risk sharing network data collected by Joachim de Weerdt. The de Weerdt (2004) paper in the course syllabus describes the dataset in some detail. There are four different files, we will mostly use the _Nyakatoke individual.dta_ and _Nyakatoke dyadic.dta_ files. The files are available for download from https://www.uantwerpen.be/en/staff/joachim-deweerdt/."
   ]
  },
  {
   "cell_type": "code",
   "execution_count": 3,
   "metadata": {},
   "outputs": [],
   "source": [
    "Nyakatoke_ind = pd.read_stata(data+\"Nyakatoke individual.dta\")\n",
    "Nyakatoke_dyad = pd.read_stata(data+\"Nyakatoke dyadic.dta\")\n",
    "Nyakatoke_hh = pd.read_stata(data+\"Nyakatoke household.dta\")\n",
    "Nyakatoke_dir = pd.read_stata(data+\"Nyakatoke directed.dta\")"
   ]
  },
  {
   "cell_type": "markdown",
   "metadata": {},
   "source": [
    "Here are the first few lines of the _Nyakatoke dyadic.dta_ file. Each row corresponds to a dyad -- that is a pair of households, whether connected or not."
   ]
  },
  {
   "cell_type": "code",
   "execution_count": 4,
   "metadata": {},
   "outputs": [
    {
     "data": {
      "text/html": [
       "<div>\n",
       "<style scoped>\n",
       "    .dataframe tbody tr th:only-of-type {\n",
       "        vertical-align: middle;\n",
       "    }\n",
       "\n",
       "    .dataframe tbody tr th {\n",
       "        vertical-align: top;\n",
       "    }\n",
       "\n",
       "    .dataframe thead th {\n",
       "        text-align: right;\n",
       "    }\n",
       "</style>\n",
       "<table border=\"1\" class=\"dataframe\">\n",
       "  <thead>\n",
       "    <tr style=\"text-align: right;\">\n",
       "      <th></th>\n",
       "      <th>hh1</th>\n",
       "      <th>hh2</th>\n",
       "      <th>links</th>\n",
       "      <th>kinship</th>\n",
       "      <th>distance</th>\n",
       "      <th>land1</th>\n",
       "      <th>land2</th>\n",
       "      <th>livestock1</th>\n",
       "      <th>livestock2</th>\n",
       "      <th>clan1</th>\n",
       "      <th>clan2</th>\n",
       "      <th>religion1</th>\n",
       "      <th>religion2</th>\n",
       "    </tr>\n",
       "  </thead>\n",
       "  <tbody>\n",
       "    <tr>\n",
       "      <th>0</th>\n",
       "      <td>1.0</td>\n",
       "      <td>2.0</td>\n",
       "      <td>no link</td>\n",
       "      <td>other blood relation</td>\n",
       "      <td>91.199997</td>\n",
       "      <td>2.999796</td>\n",
       "      <td>1.791863</td>\n",
       "      <td>865800.0</td>\n",
       "      <td>126400.0</td>\n",
       "      <td>21.0</td>\n",
       "      <td>6.0</td>\n",
       "      <td>Catholic</td>\n",
       "      <td>Catholic</td>\n",
       "    </tr>\n",
       "    <tr>\n",
       "      <th>1</th>\n",
       "      <td>1.0</td>\n",
       "      <td>3.0</td>\n",
       "      <td>no link</td>\n",
       "      <td>no blood relation</td>\n",
       "      <td>69.599998</td>\n",
       "      <td>2.999796</td>\n",
       "      <td>0.396078</td>\n",
       "      <td>865800.0</td>\n",
       "      <td>35000.0</td>\n",
       "      <td>21.0</td>\n",
       "      <td>21.0</td>\n",
       "      <td>Catholic</td>\n",
       "      <td>Catholic</td>\n",
       "    </tr>\n",
       "    <tr>\n",
       "      <th>2</th>\n",
       "      <td>1.0</td>\n",
       "      <td>4.0</td>\n",
       "      <td>unilateral link</td>\n",
       "      <td>no blood relation</td>\n",
       "      <td>199.199997</td>\n",
       "      <td>2.999796</td>\n",
       "      <td>0.832353</td>\n",
       "      <td>865800.0</td>\n",
       "      <td>24600.0</td>\n",
       "      <td>21.0</td>\n",
       "      <td>23.0</td>\n",
       "      <td>Catholic</td>\n",
       "      <td>Catholic</td>\n",
       "    </tr>\n",
       "    <tr>\n",
       "      <th>3</th>\n",
       "      <td>1.0</td>\n",
       "      <td>5.0</td>\n",
       "      <td>no link</td>\n",
       "      <td>no blood relation</td>\n",
       "      <td>252.000000</td>\n",
       "      <td>2.999796</td>\n",
       "      <td>0.483366</td>\n",
       "      <td>865800.0</td>\n",
       "      <td>52600.0</td>\n",
       "      <td>21.0</td>\n",
       "      <td>23.0</td>\n",
       "      <td>Catholic</td>\n",
       "      <td>Catholic</td>\n",
       "    </tr>\n",
       "    <tr>\n",
       "      <th>4</th>\n",
       "      <td>1.0</td>\n",
       "      <td>6.0</td>\n",
       "      <td>no link</td>\n",
       "      <td>no blood relation</td>\n",
       "      <td>213.600006</td>\n",
       "      <td>2.999796</td>\n",
       "      <td>0.437647</td>\n",
       "      <td>865800.0</td>\n",
       "      <td>8200.0</td>\n",
       "      <td>21.0</td>\n",
       "      <td>23.0</td>\n",
       "      <td>Catholic</td>\n",
       "      <td>Catholic</td>\n",
       "    </tr>\n",
       "  </tbody>\n",
       "</table>\n",
       "</div>"
      ],
      "text/plain": [
       "   hh1  hh2            links               kinship    distance     land1  \\\n",
       "0  1.0  2.0          no link  other blood relation   91.199997  2.999796   \n",
       "1  1.0  3.0          no link     no blood relation   69.599998  2.999796   \n",
       "2  1.0  4.0  unilateral link     no blood relation  199.199997  2.999796   \n",
       "3  1.0  5.0          no link     no blood relation  252.000000  2.999796   \n",
       "4  1.0  6.0          no link     no blood relation  213.600006  2.999796   \n",
       "\n",
       "      land2  livestock1  livestock2  clan1  clan2 religion1 religion2  \n",
       "0  1.791863    865800.0    126400.0   21.0    6.0  Catholic  Catholic  \n",
       "1  0.396078    865800.0     35000.0   21.0   21.0  Catholic  Catholic  \n",
       "2  0.832353    865800.0     24600.0   21.0   23.0  Catholic  Catholic  \n",
       "3  0.483366    865800.0     52600.0   21.0   23.0  Catholic  Catholic  \n",
       "4  0.437647    865800.0      8200.0   21.0   23.0  Catholic  Catholic  "
      ]
     },
     "execution_count": 4,
     "metadata": {},
     "output_type": "execute_result"
    }
   ],
   "source": [
    "Nyakatoke_dyad.head()"
   ]
  },
  {
   "cell_type": "markdown",
   "metadata": {},
   "source": [
    "In order to merge the individual and dyadic data we need to perform a few string comprehensions in order to link records. We can then aggregate the individual data up to the household level and perform a many-to-one merge of the dyadic with the household data (since the same household will belong to multiple dyads)."
   ]
  },
  {
   "cell_type": "code",
   "execution_count": 5,
   "metadata": {},
   "outputs": [],
   "source": [
    "Nyakatoke_ind.dropna(subset=['hhind'], inplace = True)               # Drop rows with missing identification number\n",
    "Nyakatoke_ind['hh1']=Nyakatoke_ind['hhind'].apply(str).str[2:5]      # Create household ID number\n",
    "Nyakatoke_ind['iid']=Nyakatoke_ind['hhind'].apply(str).str[5:7]      # Create individual ID number\n",
    "\n",
    "# Find age of household head\n",
    "Nyakatoke_ind['head_age'] = None\n",
    "Nyakatoke_ind.loc[Nyakatoke_ind['iid']=='01', 'head_age'] = Nyakatoke_ind['age']\n",
    "\n",
    "# Find sex of household head\n",
    "gender_dict = {'male' : 1, 'female' : 0}\n",
    "Nyakatoke_ind['head_sex'] = np.nan\n",
    "Nyakatoke_ind.loc[Nyakatoke_ind['iid']=='01', 'head_sex'] = Nyakatoke_ind['sex'] \n",
    "Nyakatoke_ind['head_sex'] = Nyakatoke_ind['head_sex'].map(gender_dict)\n",
    "\n",
    "# Create completed primary school dummy variable\n",
    "Nyakatoke_ind['primary'] = ((Nyakatoke_ind['education'] == 'finished primary') | (Nyakatoke_ind['education'] == 'secondary'))*1"
   ]
  },
  {
   "cell_type": "code",
   "execution_count": 6,
   "metadata": {},
   "outputs": [
    {
     "name": "stdout",
     "output_type": "stream",
     "text": [
      "121 households appear in individual-level data file\n"
     ]
    }
   ],
   "source": [
    "# Set of househoulds represented in individual data\n",
    "hh_set_ind = set(Nyakatoke_ind['hh1'].unique())\n",
    "print(str(len(hh_set_ind)) + ' households appear in individual-level data file')"
   ]
  },
  {
   "cell_type": "code",
   "execution_count": 7,
   "metadata": {},
   "outputs": [
    {
     "data": {
      "text/html": [
       "<div>\n",
       "<style scoped>\n",
       "    .dataframe tbody tr th:only-of-type {\n",
       "        vertical-align: middle;\n",
       "    }\n",
       "\n",
       "    .dataframe tbody tr th {\n",
       "        vertical-align: top;\n",
       "    }\n",
       "\n",
       "    .dataframe thead th {\n",
       "        text-align: right;\n",
       "    }\n",
       "</style>\n",
       "<table border=\"1\" class=\"dataframe\">\n",
       "  <thead>\n",
       "    <tr style=\"text-align: right;\">\n",
       "      <th></th>\n",
       "      <th>hhind</th>\n",
       "      <th>age</th>\n",
       "      <th>sex</th>\n",
       "      <th>education</th>\n",
       "      <th>act_offfarm</th>\n",
       "      <th>act_casual</th>\n",
       "      <th>act_trade</th>\n",
       "      <th>act_crop</th>\n",
       "      <th>act_livest</th>\n",
       "      <th>act_assets</th>\n",
       "      <th>act_process</th>\n",
       "      <th>hh1</th>\n",
       "      <th>iid</th>\n",
       "      <th>head_age</th>\n",
       "      <th>head_sex</th>\n",
       "      <th>primary</th>\n",
       "    </tr>\n",
       "  </thead>\n",
       "  <tbody>\n",
       "    <tr>\n",
       "      <th>0</th>\n",
       "      <td>1000101.0</td>\n",
       "      <td>75.0</td>\n",
       "      <td>male</td>\n",
       "      <td>started primary</td>\n",
       "      <td>0.0</td>\n",
       "      <td>0.0</td>\n",
       "      <td>0.0</td>\n",
       "      <td>1.0</td>\n",
       "      <td>1.0</td>\n",
       "      <td>0.0</td>\n",
       "      <td>0.0</td>\n",
       "      <td>001</td>\n",
       "      <td>01</td>\n",
       "      <td>75.0</td>\n",
       "      <td>1.0</td>\n",
       "      <td>0</td>\n",
       "    </tr>\n",
       "    <tr>\n",
       "      <th>1</th>\n",
       "      <td>1000102.0</td>\n",
       "      <td>56.0</td>\n",
       "      <td>female</td>\n",
       "      <td>no education</td>\n",
       "      <td>0.0</td>\n",
       "      <td>0.0</td>\n",
       "      <td>0.0</td>\n",
       "      <td>1.0</td>\n",
       "      <td>1.0</td>\n",
       "      <td>0.0</td>\n",
       "      <td>0.0</td>\n",
       "      <td>001</td>\n",
       "      <td>02</td>\n",
       "      <td>None</td>\n",
       "      <td>NaN</td>\n",
       "      <td>0</td>\n",
       "    </tr>\n",
       "    <tr>\n",
       "      <th>2</th>\n",
       "      <td>1000103.0</td>\n",
       "      <td>78.0</td>\n",
       "      <td>female</td>\n",
       "      <td>no education</td>\n",
       "      <td>NaN</td>\n",
       "      <td>NaN</td>\n",
       "      <td>NaN</td>\n",
       "      <td>NaN</td>\n",
       "      <td>NaN</td>\n",
       "      <td>NaN</td>\n",
       "      <td>NaN</td>\n",
       "      <td>001</td>\n",
       "      <td>03</td>\n",
       "      <td>None</td>\n",
       "      <td>NaN</td>\n",
       "      <td>0</td>\n",
       "    </tr>\n",
       "    <tr>\n",
       "      <th>3</th>\n",
       "      <td>1000201.0</td>\n",
       "      <td>30.0</td>\n",
       "      <td>male</td>\n",
       "      <td>finished primary</td>\n",
       "      <td>0.0</td>\n",
       "      <td>1.0</td>\n",
       "      <td>0.0</td>\n",
       "      <td>1.0</td>\n",
       "      <td>1.0</td>\n",
       "      <td>0.0</td>\n",
       "      <td>1.0</td>\n",
       "      <td>002</td>\n",
       "      <td>01</td>\n",
       "      <td>30.0</td>\n",
       "      <td>1.0</td>\n",
       "      <td>1</td>\n",
       "    </tr>\n",
       "    <tr>\n",
       "      <th>4</th>\n",
       "      <td>1000202.0</td>\n",
       "      <td>27.0</td>\n",
       "      <td>female</td>\n",
       "      <td>finished primary</td>\n",
       "      <td>0.0</td>\n",
       "      <td>1.0</td>\n",
       "      <td>0.0</td>\n",
       "      <td>1.0</td>\n",
       "      <td>0.0</td>\n",
       "      <td>0.0</td>\n",
       "      <td>0.0</td>\n",
       "      <td>002</td>\n",
       "      <td>02</td>\n",
       "      <td>None</td>\n",
       "      <td>NaN</td>\n",
       "      <td>1</td>\n",
       "    </tr>\n",
       "  </tbody>\n",
       "</table>\n",
       "</div>"
      ],
      "text/plain": [
       "       hhind   age     sex         education  act_offfarm  act_casual  \\\n",
       "0  1000101.0  75.0    male   started primary          0.0         0.0   \n",
       "1  1000102.0  56.0  female      no education          0.0         0.0   \n",
       "2  1000103.0  78.0  female      no education          NaN         NaN   \n",
       "3  1000201.0  30.0    male  finished primary          0.0         1.0   \n",
       "4  1000202.0  27.0  female  finished primary          0.0         1.0   \n",
       "\n",
       "   act_trade  act_crop  act_livest  act_assets  act_process  hh1 iid head_age  \\\n",
       "0        0.0       1.0         1.0         0.0          0.0  001  01     75.0   \n",
       "1        0.0       1.0         1.0         0.0          0.0  001  02     None   \n",
       "2        NaN       NaN         NaN         NaN          NaN  001  03     None   \n",
       "3        0.0       1.0         1.0         0.0          1.0  002  01     30.0   \n",
       "4        0.0       1.0         0.0         0.0          0.0  002  02     None   \n",
       "\n",
       "   head_sex  primary  \n",
       "0       1.0        0  \n",
       "1       NaN        0  \n",
       "2       NaN        0  \n",
       "3       1.0        1  \n",
       "4       NaN        1  "
      ]
     },
     "execution_count": 7,
     "metadata": {},
     "output_type": "execute_result"
    }
   ],
   "source": [
    "Nyakatoke_ind.head()"
   ]
  },
  {
   "cell_type": "code",
   "execution_count": 8,
   "metadata": {},
   "outputs": [
    {
     "name": "stdout",
     "output_type": "stream",
     "text": [
      "         head_age    head_sex     primary  num_respondents\n",
      "count  118.000000  118.000000  121.000000       121.000000\n",
      "mean    44.898305    0.788136    0.760331         2.528926\n",
      "std     15.931150    0.410372    0.428657         1.323344\n",
      "min     15.000000    0.000000    0.000000         1.000000\n",
      "25%     33.000000    1.000000    1.000000         2.000000\n",
      "50%     42.000000    1.000000    1.000000         2.000000\n",
      "75%     56.750000    1.000000    1.000000         3.000000\n",
      "max     89.000000    1.000000    1.000000         9.000000\n",
      "\n",
      "121 households appear in household-level attribute data file\n"
     ]
    }
   ],
   "source": [
    "# Create household-level dataset with age, sex and primary completion infomation\n",
    "hh_var = Nyakatoke_ind[['head_age','head_sex','primary','hh1']].groupby('hh1').max()\n",
    "hh_var['num_respondents'] = Nyakatoke_ind[['iid','hh1']].groupby('hh1').count()['iid']\n",
    "\n",
    "hh_var.reset_index(inplace=True)\n",
    "print(hh_var.describe())\n",
    "\n",
    "# Set of househoulds represented in household-level attribute data file\n",
    "hh_set_hh_var = set(hh_var['hh1'].unique())\n",
    "print(\"\")\n",
    "print(str(len(hh_set_hh_var)) + ' households appear in household-level attribute data file')"
   ]
  },
  {
   "cell_type": "markdown",
   "metadata": {},
   "source": [
    "This next block of code creates the household economic activity variable used by De Weerdt (2004, _Insurance Against Poverty_)"
   ]
  },
  {
   "cell_type": "code",
   "execution_count": 9,
   "metadata": {},
   "outputs": [
    {
     "name": "stdout",
     "output_type": "stream",
     "text": [
      "0.0    80\n",
      "1.0    37\n",
      "2.0     3\n",
      "3.0     1\n",
      "Name: act_offfarm, dtype: int64\n",
      "0.0    63\n",
      "1.0    43\n",
      "2.0    14\n",
      "3.0     1\n",
      "Name: act_casual, dtype: int64\n",
      "0.0    80\n",
      "1.0    34\n",
      "2.0     7\n",
      "Name: act_trade, dtype: int64\n",
      "1.0    70\n",
      "2.0    31\n",
      "0.0    15\n",
      "3.0     5\n",
      "Name: act_crop, dtype: int64\n",
      "0.0    91\n",
      "1.0    28\n",
      "2.0     2\n",
      "Name: act_livest, dtype: int64\n",
      "0.0    114\n",
      "1.0      7\n",
      "Name: act_assets, dtype: int64\n",
      "0.0    82\n",
      "1.0    25\n",
      "2.0    12\n",
      "3.0     2\n",
      "Name: act_process, dtype: int64\n",
      "       prc_offfarm  prc_casual   prc_trade    prc_crop  prc_livest  \\\n",
      "count   121.000000  121.000000  121.000000  121.000000  121.000000   \n",
      "mean      9.737308   18.432704   10.992719   37.748918    6.856553   \n",
      "std      15.516507   22.586988   19.164951   24.072771   13.466583   \n",
      "min       0.000000    0.000000    0.000000    0.000000    0.000000   \n",
      "25%       0.000000    0.000000    0.000000   25.000000    0.000000   \n",
      "50%       0.000000    0.000000    0.000000   33.333333    0.000000   \n",
      "75%      20.000000   33.333333   20.000000   50.000000    0.000000   \n",
      "max      75.000000  100.000000  100.000000  100.000000   50.000000   \n",
      "\n",
      "       prc_assets  prc_process  \n",
      "count  121.000000   121.000000  \n",
      "mean     0.960252    10.312869  \n",
      "std      3.933010    16.515672  \n",
      "min      0.000000     0.000000  \n",
      "25%      0.000000     0.000000  \n",
      "50%      0.000000     0.000000  \n",
      "75%      0.000000    20.000000  \n",
      "max     20.000000    50.000000  \n",
      "\n",
      "121 households appear in household-level activity data file\n"
     ]
    }
   ],
   "source": [
    "# Total number of activities engaged in by each individual \n",
    "Nyakatoke_ind['act_total'] = Nyakatoke_ind['act_offfarm'] + Nyakatoke_ind['act_casual'] + Nyakatoke_ind['act_trade'] \\\n",
    "                           + Nyakatoke_ind['act_crop']    + Nyakatoke_ind['act_livest'] + Nyakatoke_ind['act_assets'] \\\n",
    "                           + Nyakatoke_ind['act_process']\n",
    "\n",
    "# Compute totals by category for each household        \n",
    "hh_act = Nyakatoke_ind[['act_offfarm', 'act_casual', 'act_trade', 'act_crop', \\\n",
    "                        'act_livest', 'act_assets', 'act_process', 'act_total', 'hh1']].groupby('hh1').sum()\n",
    "\n",
    "# Covert total counts into percentages as in De Weerdt (2004)\n",
    "for activity in ['offfarm', 'casual', 'trade', 'crop', 'livest', 'assets', 'process']:\n",
    "    hh_act['prc_' + activity] = (hh_act['act_'+ activity] / hh_act['act_total'])*100\n",
    "    hh_act['prc_' + activity][hh_act['act_total']==0] = 0 # Avoid divide by zero error for households with no activity\n",
    "    print(hh_act['act_'+ activity].value_counts())\n",
    "    hh_act.drop('act_'+ activity, axis=1, inplace=True)\n",
    "    \n",
    "    \n",
    "hh_act.drop('act_total', axis=1, inplace=True)\n",
    "hh_act.reset_index(inplace=True)\n",
    "print(hh_act.describe())\n",
    "\n",
    "# Set of househoulds represented in household-level activity data file\n",
    "hh_set_hh_act = set(hh_act['hh1'].unique())\n",
    "print(\"\")\n",
    "print(str(len(hh_set_hh_act)) + ' households appear in household-level activity data file')"
   ]
  },
  {
   "cell_type": "code",
   "execution_count": 10,
   "metadata": {},
   "outputs": [],
   "source": [
    "# Now work with the dyadic dataframe\n",
    "# Convert hh1 to string and add leading zeros (to matched with hh_act and hh_var dataframes created above)\n",
    "Nyakatoke_dyad.loc[:,'hh1'] = Nyakatoke_dyad['hh1'].apply(str).str.zfill(5)\n",
    "\n",
    "# remove decimal and digits to its right\n",
    "Nyakatoke_dyad.loc[:,'hh1'] = Nyakatoke_dyad['hh1'].apply(str).str[0:3]\n",
    "\n",
    "# Repeat conversions for hh2\n",
    "Nyakatoke_dyad.loc[:,'hh2'] = Nyakatoke_dyad['hh2'].apply(str).str.zfill(5)\n",
    "Nyakatoke_dyad.loc[:,'hh2'] = Nyakatoke_dyad['hh2'].apply(str).str[0:3]"
   ]
  },
  {
   "cell_type": "code",
   "execution_count": 11,
   "metadata": {},
   "outputs": [],
   "source": [
    "# Merge household head age, sex and primary completion information into dyadic dataframe\n",
    "# First for household 1 in the dyad\n",
    "Nyakatoke_dyad = Nyakatoke_dyad.merge(hh_var, on = 'hh1', how = 'left', copy = False)\n",
    "Nyakatoke_dyad.rename(columns={'head_age' : 'head_age1', 'head_sex' : 'head_sex1', 'primary' : 'primary1', \\\n",
    "                               'num_respondents' : 'num_respondents1'}, inplace=True)\n",
    "\n",
    "# Then for household 2 in the dyad\n",
    "Nyakatoke_dyad = Nyakatoke_dyad.merge(hh_var, left_on='hh2', right_on = 'hh1', how = 'left', copy = False)\n",
    "\n",
    "# NOTE: Last merge creates two instances of hh1 due to how the merge above was done. Drop the second instance and\n",
    "#       rename the first\n",
    "Nyakatoke_dyad.drop('hh1_y', axis=1, inplace=True)\n",
    "Nyakatoke_dyad.rename(columns={'hh1_x' : 'hh1'}, inplace=True)\n",
    "\n",
    "Nyakatoke_dyad.rename(columns={'head_age' : 'head_age2', 'head_sex' : 'head_sex2', 'primary' : 'primary2', \\\n",
    "                               'num_respondents' : 'num_respondents2'}, inplace=True)"
   ]
  },
  {
   "cell_type": "code",
   "execution_count": 12,
   "metadata": {},
   "outputs": [],
   "source": [
    "# Merge household economic activity information into dyadic dataframe\n",
    "# First for household 1 in the dyad\n",
    "Nyakatoke_dyad = Nyakatoke_dyad.merge(hh_act, on = 'hh1', how = 'left', copy = False)\n",
    "\n",
    "for activity in ['offfarm', 'casual', 'trade', 'crop', 'livest', 'assets', 'process']:\n",
    "    Nyakatoke_dyad.rename(columns={'prc_' + activity : 'prc_' + activity + '1'}, inplace=True)\n",
    "\n",
    "# Then for household 2 in the dyad\n",
    "Nyakatoke_dyad = Nyakatoke_dyad.merge(hh_act, left_on='hh2', right_on = 'hh1', how = 'left', copy = False)\n",
    "\n",
    "# NOTE: Last merge creates two instances of hh1 due to how the merge above was done. Drop the second instance and\n",
    "#       rename the first\n",
    "Nyakatoke_dyad.drop('hh1_y', axis=1, inplace=True)\n",
    "Nyakatoke_dyad.rename(columns={'hh1_x' : 'hh1'}, inplace=True)\n",
    "\n",
    "for activity in ['offfarm', 'casual', 'trade', 'crop', 'livest', 'assets', 'process']:\n",
    "    Nyakatoke_dyad.rename(columns={'prc_' + activity : 'prc_' + activity + '2'}, inplace=True)"
   ]
  },
  {
   "cell_type": "markdown",
   "metadata": {},
   "source": [
    "It is useful to have a household level measure of wealth. Here I use the conversion of land and livestock wealth into Tanzanian Shillings proposed by Comola and Fafchamps (2014) in the _Economic Journal_."
   ]
  },
  {
   "cell_type": "code",
   "execution_count": 13,
   "metadata": {},
   "outputs": [],
   "source": [
    "# Comola and Fafchamps (2014) wealth formula\n",
    "Nyakatoke_dyad['wealth1'] = (300000*Nyakatoke_dyad['land1'] + Nyakatoke_dyad['livestock1'])/100000\n",
    "Nyakatoke_dyad['wealth2'] = (300000*Nyakatoke_dyad['land2'] + Nyakatoke_dyad['livestock2'])/100000"
   ]
  },
  {
   "cell_type": "code",
   "execution_count": 14,
   "metadata": {},
   "outputs": [
    {
     "name": "stdout",
     "output_type": "stream",
     "text": [
      "\n",
      "119 households appear in dyad-level data file\n"
     ]
    }
   ],
   "source": [
    "hh_set = set(Nyakatoke_dyad['hh1'].unique()) | set(Nyakatoke_dyad['hh2'].unique()) # Set of all households\n",
    "N = len(hh_set)                                            # Number of households\n",
    "n = N * (N - 1) //2                                        # Number of dyads\n",
    "\n",
    "print(\"\")\n",
    "print(str(len(hh_set)) + ' households appear in dyad-level data file')"
   ]
  },
  {
   "cell_type": "code",
   "execution_count": 15,
   "metadata": {},
   "outputs": [],
   "source": [
    "# Convert hh1 to string and add leading zeros (to matched with hh_act and hh_var dataframes created above)\n",
    "Nyakatoke_hh.loc[:,'hh'] = Nyakatoke_hh['hh'].apply(str).str.zfill(5)\n",
    "\n",
    "# remove decimal and digits to its right\n",
    "Nyakatoke_hh.loc[:,'hh'] = Nyakatoke_hh['hh'].apply(str).str[0:3]"
   ]
  },
  {
   "cell_type": "markdown",
   "metadata": {},
   "source": [
    "Calculate household-level clan membership and religion variables"
   ]
  },
  {
   "cell_type": "code",
   "execution_count": 16,
   "metadata": {},
   "outputs": [
    {
     "name": "stderr",
     "output_type": "stream",
     "text": [
      "/var/folders/xk/_7lm526x25v801z84vrr9yzc0000gn/T/ipykernel_21950/1005188751.py:6: FutureWarning: The series.append method is deprecated and will be removed from pandas in a future version. Use pandas.concat instead.\n",
      "  Nyakatoke_dyad.loc[Nyakatoke_dyad['hh1'] == hh, 'clan1'].\\\n",
      "/var/folders/xk/_7lm526x25v801z84vrr9yzc0000gn/T/ipykernel_21950/1005188751.py:9: FutureWarning: The series.append method is deprecated and will be removed from pandas in a future version. Use pandas.concat instead.\n",
      "  Nyakatoke_dyad.loc[Nyakatoke_dyad['hh1'] == hh, 'religion1'].\\\n"
     ]
    },
    {
     "name": "stdout",
     "output_type": "stream",
     "text": [
      "\n",
      "Membership counts for clans: across households\n",
      "---------------------------------------------------\n",
      "21.0    23\n",
      "16.0    20\n",
      "4.0     12\n",
      "6.0     10\n",
      "19.0    10\n",
      "23.0     8\n",
      "13.0     6\n",
      "18.0     4\n",
      "2.0      3\n",
      "22.0     3\n",
      "20.0     2\n",
      "15.0     2\n",
      "24.0     2\n",
      "7.0      2\n",
      "14.0     2\n",
      "10.0     1\n",
      "12.0     1\n",
      "3.0      1\n",
      "8.0      1\n",
      "5.0      1\n",
      "1.0      1\n",
      "25.0     1\n",
      "9.0      1\n",
      "11.0     1\n",
      "17.0     1\n",
      "Name: clan, dtype: int64\n",
      "\n",
      "Membership counts for religions: across households\n",
      "---------------------------------------------------\n",
      "Catholic    49\n",
      "Lutheran    46\n",
      "Muslim      24\n",
      "Name: religion, dtype: int64\n"
     ]
    }
   ],
   "source": [
    "Nyakatoke_hh['clan'] = None\n",
    "Nyakatoke_hh['religion'] = None\n",
    "\n",
    "for hh in hh_set:\n",
    "    Nyakatoke_hh.loc[Nyakatoke_hh['hh'] == hh, 'clan'] = \\\n",
    "        Nyakatoke_dyad.loc[Nyakatoke_dyad['hh1'] == hh, 'clan1'].\\\n",
    "        append(Nyakatoke_dyad.loc[Nyakatoke_dyad['hh2'] == hh, 'clan2'], ignore_index=True).unique()\n",
    "    Nyakatoke_hh.loc[Nyakatoke_hh['hh'] == hh, 'religion'] = \\\n",
    "        Nyakatoke_dyad.loc[Nyakatoke_dyad['hh1'] == hh, 'religion1'].\\\n",
    "        append(Nyakatoke_dyad.loc[Nyakatoke_dyad['hh2'] == hh, 'religion2'], ignore_index=True).unique()    \n",
    "    \n",
    "print(\"\")\n",
    "print(\"Membership counts for clans: across households\")    \n",
    "print(\"---------------------------------------------------\")\n",
    "print(Nyakatoke_hh['clan'].value_counts())\n",
    "\n",
    "print(\"\")\n",
    "print(\"Membership counts for religions: across households\")    \n",
    "print(\"---------------------------------------------------\")\n",
    "print(Nyakatoke_hh['religion'].value_counts())\n"
   ]
  },
  {
   "cell_type": "markdown",
   "metadata": {},
   "source": [
    "## Creating a graph object using _networkx_\n",
    "The _networkx_ package provides functionality for defining, exploring and, to a lesser extent, visualizing network data. The next snippet of code defines a graph object using the Nyakatoke data. First I add each household in Nyakatoke to the graph object as a node, second I use *Nyakatoke\\_dyad* dataframe to add edges or links where needed. Specifically, I use a Python list comprehension to quickly iterate through all dyads in the dataframe and add a link to the graph object as appropriate."
   ]
  },
  {
   "cell_type": "code",
   "execution_count": 17,
   "metadata": {},
   "outputs": [],
   "source": [
    "# create networkx graph object\n",
    "G=nx.Graph()\n",
    "\n",
    "# add households to graph object\n",
    "hh_list = list(Nyakatoke_dyad['hh1'].unique())\n",
    "G.add_nodes_from(hh_list)\n",
    "\n",
    "# create edge list and add to graph \n",
    "G.add_edges_from([(row['hh1'], row['hh2']) for index, row in Nyakatoke_dyad.iterrows() if \\\n",
    "                  (row['links']!='no link') ])\n",
    "\n",
    "# add some household attributes to graph\n",
    "nx.set_node_attributes(G, dict(zip(hh_var.hh1, hh_var.head_age)), 'age')\n",
    "nx.set_node_attributes(G, dict(zip(hh_var.hh1, hh_var.primary)), 'education')"
   ]
  },
  {
   "cell_type": "markdown",
   "metadata": {},
   "source": [
    "The network visualization features of _networkx_ are basic, but sufficient for most purposes likely to arise in economics. In the picture generated below I color each node according to its wealth level. Berkeley Blue nodes correspond to \"very poor\" households; those with land and livestock wealth below 150,000 Tanzanian Shillings. Those colored California Gold are \"poor\" (wealth between 150,000 to 300,000 Shillings), Golden Gate colored nodes are \"middle\" wealth (300,000 to 600,000 Shillings), and those colored Lawrence are \"wealthy\" (wealth 600,000 Shillings or more).\n",
    "<br>\n",
    "<br>\n",
    "The size of each node is proportional to is _degree_ (i.e., the number of links it has with other nodes).\n",
    "<br>\n",
    "<br>\n",
    "The next few snippets of code add each households wealth category and degree as an attribute to our graph object. I use Python set operations to avoid repeating data since the same household appears in multiple dyads."
   ]
  },
  {
   "cell_type": "code",
   "execution_count": 18,
   "metadata": {},
   "outputs": [],
   "source": [
    "# Categorize households into four bins based on total land and livestock wealth\n",
    "# using the Comola and Fafchamps (2014, Economic Journal) scheme\n",
    "\n",
    "# Construct dictionary with hh1 as 'key' and wealth as 'items'\n",
    "hh_wealth = {} \n",
    "for index, row in Nyakatoke_dyad.iterrows():\n",
    "    hh_wealth.setdefault(row['hh1'], []).append(row['wealth1'])\n",
    "    hh_wealth.setdefault(row['hh2'], []).append(row['wealth2']) \n",
    "\n",
    "\n",
    "hh_log_wealth = {}    \n",
    "\n",
    "for hh in hh_wealth:\n",
    "    \n",
    "    # Remove duplicate wealth measures\n",
    "    hh_wealth[hh] = list(set(hh_wealth[hh]))[0]\n",
    "    \n",
    "    # Update log wealth dictionary\n",
    "    hh_log_wealth.setdefault(hh, int(round(np.log(1+hh_wealth[hh])*1000,0)))\n",
    "    \n",
    "    # Catgorize into four groups\n",
    "    if hh_wealth[hh] < 1.5:\n",
    "        hh_wealth[hh] = 'very poor'\n",
    "    elif (hh_wealth[hh] >= 1.5) & (hh_wealth[hh] < 3):\n",
    "        hh_wealth[hh] = 'poor'\n",
    "    elif (hh_wealth[hh] >= 3) & (hh_wealth[hh] < 6):\n",
    "        hh_wealth[hh] = 'middle'\n",
    "    elif hh_wealth[hh] >= 6:\n",
    "        hh_wealth[hh] = 'rich'\n",
    "\n",
    "# Attach wealth categorization to networkx graph        \n",
    "nx.set_node_attributes(G, hh_wealth, 'wealth')    \n",
    "nx.set_node_attributes(G, hh_log_wealth, 'log_wealth')  \n",
    "\n",
    "# put together a color map, one color for a category\n",
    "# Berkeley Blue:    #003262\n",
    "# California Gold:  #FDB515\n",
    "# Golden Gate:      #ED4E33\n",
    "# Lawrence:         #00B0DA\n",
    "color_map = {'very poor':'#003262', 'poor':'#FDB515', 'middle':'#ED4E33', 'rich':'#00B0DA'} \n",
    "\n",
    "# Construct degree attribute\n",
    "nx.set_node_attributes(G, dict(nx.degree(G)), 'degree')"
   ]
  },
  {
   "cell_type": "markdown",
   "metadata": {},
   "source": [
    "Now create the figure object and save it as a png file. Note this next code snippet requires _Graphviz_ and _PyGraphviz_ to be install. Graphviz is available for downloand at http://www.graphviz.org/. PyGraphiz may be installed using conda by typing \"conda install -c pdrops pygraphviz=1.2\" at the command line."
   ]
  },
  {
   "cell_type": "code",
   "execution_count": 19,
   "metadata": {},
   "outputs": [
    {
     "data": {
      "image/png": "[encoded data removed]",
      "text/plain": [
       "<Figure size 640x480 with 1 Axes>"
      ]
     },
     "metadata": {},
     "output_type": "display_data"
    }
   ],
   "source": [
    "plt.rc('text', usetex=True)\n",
    "plt.rc('font', family='serif')\n",
    "\n",
    "from matplotlib.lines import Line2D\n",
    "\n",
    "# Legend items for node types\n",
    "very_poor_patch = Line2D([0], [0], color='#003262', marker='o', linestyle='None',\\\n",
    "                         markersize=10)\n",
    "poor_patch      = Line2D([0], [0], color='#FDB515', marker='o', linestyle='None',\\\n",
    "                         markersize=10)\n",
    "middle_patch    = Line2D([0], [0], color='#ED4E33', marker='o', linestyle='None',\\\n",
    "                         markersize=10)\n",
    "rich_patch      = Line2D([0], [0], color='#00B0DA', marker='o', linestyle='None',\\\n",
    "                         markersize=10)\n",
    "\n",
    "legend_labels = [r'Wealth $<$ 150,000 TSh',\\\n",
    "                 r'150,000 TSh $\\leq$ Wealth $<$ 300,000 TSh',\\\n",
    "                 r'300,000 TSh $\\leq$ Wealth $<$ 600,000 TSh',\\\n",
    "                 r'Wealth $\\geq$  600,000 TSh']\n",
    "\n",
    "# Use Graphviz to position nodes\n",
    "# NOTE: need to call graphviz_layout with long name to avoid namespace error bug\n",
    "node_pos = nx.drawing.nx_agraph.pygraphviz_layout(G,prog='fdp')\n",
    "\n",
    "fig, ax = plt.subplots()\n",
    "plt.axis('off')  \n",
    "nx.draw_networkx(G, pos=node_pos, with_labels=False, \\\n",
    "                 node_color = [color_map[G.nodes[node]['wealth']] for node in G], \\\n",
    "                 node_size = [G.nodes[node]['degree']*10 for node in G], \\\n",
    "                 edge_color='lightgrey', width=1)\n",
    "lgd = ax.legend(handles=[very_poor_patch, poor_patch, middle_patch, rich_patch], \\\n",
    "                labels=legend_labels, \\\n",
    "                bbox_to_anchor=(0.5, -0.01), loc='upper center', fontsize=12, ncol=2, numpoints = 1) \n",
    "\n",
    "# Add frame around plot\n",
    "for spine in ['left','right','top','bottom']:\n",
    "    ax.spines[spine].set_visible(True)\n",
    "    ax.spines[spine].set_color('k')\n",
    "    ax.spines[spine].set_linewidth(2)\n",
    "\n",
    "# Remove tick marks and labels\n",
    "ax.tick_params(axis='x', which='both', bottom=False, top=False, labelbottom=False) \n",
    "ax.tick_params(axis='y', which='both', left=False, right=False, labelleft=False) \n",
    "\n",
    "# Save figure\n",
    "plt.tight_layout()\n",
    "plt.savefig(graphics+'Nyakatoke_Network.png', bbox_extra_artists=(lgd,), bbox_inches='tight', dpi=500)"
   ]
  },
  {
   "cell_type": "markdown",
   "metadata": {},
   "source": [
    "Frankly the network depiction is not especially informative. The figure does suggest that poorer households are located on the periphery of the network (i.e., have few links), whereas richer households have more links. It does make for a pretty picture however.\n",
    "<br>\n",
    "<br>\n",
    "An important strand of network research takes the so-called _degree sequence_ of a network as its primary object of interest. This is motivated in part, by the fact that many other topological features of a network are fundamental constrained by its degree sequence (c.f, Albert and Barabasi, 2002 _Review of Modern Physics_, Graham, 2015 _Annual Review of Economics_; Wasserman and Faust, 1994, _Social Network Analysis_, Chapter 14).\n",
    "<br>\n",
    "<br>\n",
    "The next snippet of code uses the nx.degree() function to calculate the degree sequence of the Nyakatoke network. And then plots it on a log-log scale."
   ]
  },
  {
   "cell_type": "code",
   "execution_count": 20,
   "metadata": {},
   "outputs": [
    {
     "name": "stdout",
     "output_type": "stream",
     "text": [
      "Complementary Empirical CDF of Nyakatoke Degree Distribution\n",
      "1     0.983193\n",
      "2     0.924370\n",
      "3     0.899160\n",
      "4     0.806723\n",
      "5     0.689076\n",
      "6     0.588235\n",
      "7     0.478992\n",
      "8     0.394958\n",
      "9     0.336134\n",
      "10    0.252101\n",
      "11    0.159664\n",
      "12    0.092437\n",
      "13    0.075630\n",
      "14    0.067227\n",
      "16    0.058824\n",
      "17    0.050420\n",
      "20    0.042017\n",
      "22    0.033613\n",
      "23    0.025210\n",
      "24    0.008403\n",
      "32    0.000000\n",
      "dtype: float64\n"
     ]
    },
    {
     "data": {
      "image/png": "[encoded data removed]",
      "text/plain": [
       "<Figure size 600x400 with 1 Axes>"
      ]
     },
     "metadata": {},
     "output_type": "display_data"
    }
   ],
   "source": [
    "degree_sequence = pd.Series(sorted(dict(nx.degree(G)).values(),reverse=True)) # Degree sequence of network as Pandas series\n",
    "N               = len(degree_sequence)                                       # Number of households in the network\n",
    "\n",
    "# Complementary Cumulative Distribution Function for agent degrees\n",
    "CCDF_degree = 1 - degree_sequence.value_counts().sort_index().cumsum()/N\n",
    "\n",
    "print(\"Complementary Empirical CDF of Nyakatoke Degree Distribution\")\n",
    "print(CCDF_degree)\n",
    "\n",
    "# Plot Nyakatoke Degree Distribution\n",
    "fig_nyakatoke_degree = plt.figure(figsize=(6,4))\n",
    "ax = fig_nyakatoke_degree.add_subplot(1,1,1)\n",
    "\n",
    "plt.loglog(CCDF_degree,'-', marker='+', color='#00B0DA')\n",
    "plt.title(\"Nyakatoke Degree Distribution\")\n",
    "plt.xlabel(\"Degree of household, d\")\n",
    "plt.ylabel(r\"$\\Pr (\\mathrm{Degree_{i}} \\geq d)$\")\n",
    "\n",
    "# Set axis limits and tick marks (log scale with tick labels in levels)\n",
    "plt.ylim([1e-2,1])\n",
    "plt.xlim([1, 30])\n",
    "\n",
    "ax.set_yticks([1e-2, 0.05, 0.1 ,0.25, 0.50, 0.75, 1])\n",
    "ax.set_yticklabels([0.01, 0.05, 0.1, 0.25, 0.5, 0.75, 1])\n",
    "ax.set_xticks([1, 5, 10, 15, 20, 25, 30])\n",
    "ax.set_xticklabels([1, 5, 10, 15, 20, 25, 30])\n",
    "\n",
    "# Annotate to show large number of low degree households coupled with a few hubs\n",
    "plt.plot([5, 5], [0.01, CCDF_degree[5]], color='#ED4E33', linestyle=':', linewidth=1)\n",
    "plt.plot([1, 5], [CCDF_degree[5], CCDF_degree[5]], color='#ED4E33', linestyle=':', linewidth=1)\n",
    "plt.plot([20, 20], [0.01, CCDF_degree[20]], color='#ED4E33', linestyle=':', linewidth=1)\n",
    "plt.plot([1, 20], [CCDF_degree[20], CCDF_degree[20]], color='#ED4E33', linestyle=':', linewidth=1)\n",
    "\n",
    "# Save figure\n",
    "plt.tight_layout()\n",
    "plt.savefig(graphics+'Nyakatoke_Degree_Distribution.png', bbox_extra_artists=(lgd,), bbox_inches='tight', dpi=500)"
   ]
  },
  {
   "cell_type": "markdown",
   "metadata": {},
   "source": [
    "If the degree sequence obeys a power law distribution then the log of the complementary CDF and the log of degree should lie on a straight line. There is not much evidence for power law behavior in the plot above, but it is consistent with a more qualitative feature of many social and economic networks. Specifically, there are many agents with only a small number of links along with a few \"hub\" agents with many links. In Nyakatoke over a quarter of households have five or fewer risk sharing links, while a little less than five percent of households have twenty or more links.\n",
    "<br>\n",
    "<br>\n",
    "_Networkx_ also includes functionality for calculating basic summary statistics for a network. The next code snipped calculates the density, transitivity, average degree, standard deviation of degree and fraction of nodes in the giant component."
   ]
  },
  {
   "cell_type": "code",
   "execution_count": 21,
   "metadata": {},
   "outputs": [
    {
     "name": "stdout",
     "output_type": "stream",
     "text": [
      "Density          : 0.0698\n",
      "Transitivity     : 0.1884\n",
      "Mean Degree      : 8.2353\n",
      "Std. Dev. Degree : 4.9700\n",
      "% in Giant Comp. : 100.0\n"
     ]
    }
   ],
   "source": [
    "print(\"Density          : \" + \"%3.4f\" % nx.density(G))                                          # Density           \n",
    "print(\"Transitivity     : \" + \"%3.4f\" % nx.transitivity(G))                                     # Transitivity\n",
    "print(\"Mean Degree      : \" + \"%3.4f\" % np.mean(degree_sequence))                               # Mean Degree\n",
    "print(\"Std. Dev. Degree : \" + \"%3.4f\" % np.std(degree_sequence))                                # Std. of Degree\n",
    "print(\"% in Giant Comp. : \" + \"%2.1f\" % (100*len(max(nx.connected_components(G), key=len))/N))  # Giant component"
   ]
  },
  {
   "cell_type": "markdown",
   "metadata": {},
   "source": [
    "The Nyakatoke network is relatively sparse. Less that 7 percent of all possible edges are present. Transitivity is about three times density. So there are many more closed triangles in the network than one would expect to see in a vanilla random graph with the same density.\n",
    "<br>\n",
    "<br>\n",
    "The _eccentricity()_ function calculates the maximum path length from an agent in the network to all other agents in the network. If the graph is not connected this (maximal) distance will be infinite. Using the counter dictionary subclass we can quickly compute the frequency of different maximal \"degrees of separation\" in the Nyakatoke network.\n",
    "<br>\n",
    "<br>\n",
    "The maximum path length from one agent to another in the Nyakatoke network is 5. This equals the _diameter_ of the network."
   ]
  },
  {
   "cell_type": "code",
   "execution_count": 22,
   "metadata": {},
   "outputs": [
    {
     "name": "stdout",
     "output_type": "stream",
     "text": [
      "Number of agent at most 4 degrees from all other agents is 92\n",
      "Number of agent at most 3 degrees from all other agents is 16\n",
      "Number of agent at most 5 degrees from all other agents is 11\n"
     ]
    }
   ],
   "source": [
    "ds = nx.eccentricity(G)\n",
    "\n",
    "from collections import Counter\n",
    "\n",
    "for distance, count in Counter(ds.values()).most_common():\n",
    "    print(\"Number of agent at most \" + str(distance) + \" degrees from all other agents is \" + str(count))\n"
   ]
  },
  {
   "cell_type": "markdown",
   "metadata": {},
   "source": [
    "We can also count the frequency of different shortest path lengths in the network. For each pair agents there is a minimal distance between them. If they are directly connected this distance is one. If they share a friend in common is is two and so on.\n",
    "<br>\n",
    "<br>\n",
    "The *shortest\\_path\\_length()* function returns a dictionary of dictionaries. There is one dictionary for each household. Each dictionary has households $j=1,..,N$ as keys and shortest path lengths to them as items. The follow snippet of code iterates over these objects and computes the frequency of different shortest path lengths between dyads."
   ]
  },
  {
   "cell_type": "code",
   "execution_count": 23,
   "metadata": {},
   "outputs": [
    {
     "name": "stdout",
     "output_type": "stream",
     "text": [
      "119 pairs of households are 0 degrees apart\n",
      "490 pairs of households are 1 degrees apart\n",
      "2666 pairs of households are 2 degrees apart\n",
      "3298 pairs of households are 3 degrees apart\n",
      "557 pairs of households are 4 degrees apart\n",
      "10 pairs of households are 5 degrees apart\n"
     ]
    }
   ],
   "source": [
    "pl = dict(nx.shortest_path_length(G))   # Returns a dictionary of dictionaries\n",
    "                                        # Each dictionary gives the path length from household i to all households j=1,..,N \n",
    "\n",
    "shortest_path_length_counts = {}\n",
    "\n",
    "for i, path_lengths_for_i in pl.items():\n",
    "    for j, path_length in path_lengths_for_i.items():\n",
    "        # If path_length not in dictionary add it as a key and set is item to zero (setdefault method)\n",
    "        shortest_path_length_counts.setdefault(path_length, 0)\n",
    "        shortest_path_length_counts[path_length] += 1\n",
    "\n",
    "for path_length, count in shortest_path_length_counts.items():\n",
    "    if path_length != 0:\n",
    "        shortest_path_length_counts[path_length] = count // 2       # Divide by two to avoid double counting\n",
    "    print(str(shortest_path_length_counts[path_length]) + \" pairs of households are \" + str(path_length) + \" degrees apart\")    "
   ]
  },
  {
   "cell_type": "markdown",
   "metadata": {},
   "source": [
    "The Nyakatoke network shares another feature common to many real world social and economic networks. The network is relatively sparse, but simultaneously has small diameter. This goes back to Stanley Milgram's work in the 1960s. Only 490 our of 7021 possible links are present in the network. Density is about 7%. At the same time the shortest path length between any two pairs of households is quite small. While there are only 490 direct ties in the networks, many households share a link/friend in common (2666). The vast majority of dyads are at most three degrees apart.\n",
    "<br>\n",
    "<br>\n",
    "Another commonly reported graph summary is the so called triad census. In the case of directed graphs there are 16 possible wirings of a three agent subgraph. See Wasserman and Faust (1994, Chapters 6 & 14) for background, theorizing and terminology. When the graph is undirected, there are only four possible triad configurations. The following snippet of code creates a figure illustrating each of the four wirings. "
   ]
  },
  {
   "cell_type": "code",
   "execution_count": 24,
   "metadata": {},
   "outputs": [
    {
     "data": {
      "image/png": "[encoded data removed]",
      "text/plain": [
       "<Figure size 600x150 with 4 Axes>"
      ]
     },
     "metadata": {},
     "output_type": "display_data"
    }
   ],
   "source": [
    "empty=nx.Graph()                        # Empty triad\n",
    "empty.add_nodes_from([1,2,3])\n",
    "\n",
    "one_edge=nx.Graph()                     # One edge triad       \n",
    "one_edge.add_nodes_from(empty)\n",
    "one_edge.add_edges_from([(1,2)])\n",
    "\n",
    "two_star=nx.Graph()                     # Two star triad\n",
    "two_star.add_nodes_from(empty)\n",
    "two_star.add_edges_from([(1,2),(1,3)])\n",
    "\n",
    "triangle=nx.Graph()                     # Triangle triad   \n",
    "triangle.add_nodes_from(empty)\n",
    "triangle.add_edges_from([(1,2),(1,3),(2,3)])\n",
    "\n",
    "# Position nodes in the shape of a triangle\n",
    "node_pos = {1: [1,1], 2: [2,0], 3: [0,0]} \n",
    "\n",
    "triad_census_fig = plt.figure(figsize=(6, 1.5))\n",
    "\n",
    "# Empty triad\n",
    "ax = triad_census_fig.add_subplot(1,4,1)\n",
    "nx.draw_networkx(empty, pos=node_pos, with_labels=True, node_color='#FDB515', edge_color='#003262', width=3)\n",
    "ax.axes.set_xlim([-0.5,2.5])\n",
    "ax.axes.set_ylim([-0.5,1.5])\n",
    "ax.axes.get_xaxis().set_visible(False)\n",
    "ax.axes.get_yaxis().set_visible(False)\n",
    "plt.title('Empty')\n",
    "\n",
    "# One edge triad\n",
    "ax = triad_census_fig.add_subplot(1,4,2)\n",
    "nx.draw_networkx(one_edge, pos=node_pos, with_labels=True, node_color='#FDB515', edge_color='#003262', width=3)\n",
    "ax.axes.set_xlim([-0.5,2.5])\n",
    "ax.axes.set_ylim([-0.5,1.5])\n",
    "ax.axes.get_xaxis().set_visible(False)\n",
    "ax.axes.get_yaxis().set_visible(False)\n",
    "plt.title('One edge')\n",
    "\n",
    "# Two star triad\n",
    "ax = triad_census_fig.add_subplot(1,4,3)\n",
    "nx.draw_networkx(two_star, pos=node_pos, with_labels=True, node_color='#FDB515', edge_color='#003262', width=3)\n",
    "ax.axes.set_xlim([-0.5,2.5])\n",
    "ax.axes.set_ylim([-0.5,1.5])\n",
    "ax.axes.get_xaxis().set_visible(False)\n",
    "ax.axes.get_yaxis().set_visible(False)\n",
    "plt.title('Two star')\n",
    "\n",
    "# Triangle triad\n",
    "ax = triad_census_fig.add_subplot(1,4,4)\n",
    "nx.draw_networkx(triangle, pos=node_pos, with_labels=True, node_color='#FDB515', edge_color='#003262', width=3)\n",
    "ax.axes.set_xlim([-0.5,2.5])\n",
    "ax.axes.set_ylim([-0.5,1.5])\n",
    "ax.axes.get_xaxis().set_visible(False)\n",
    "ax.axes.get_yaxis().set_visible(False)\n",
    "plt.title('Triangle')\n",
    "\n",
    "# Save result\n",
    "plt.tight_layout()\n",
    "plt.savefig(graphics+'Triad_Census.png', dpi=500)  "
   ]
  },
  {
   "cell_type": "markdown",
   "metadata": {},
   "source": [
    "Somewhat irritatingly _networkx_ only computes a triad census for directed graphs. However we can shoehorn a census for undirected graphs by using to_directed() method). This is not especially elegant, but does the trick."
   ]
  },
  {
   "cell_type": "code",
   "execution_count": 25,
   "metadata": {},
   "outputs": [
    {
     "name": "stdout",
     "output_type": "stream",
     "text": [
      "TRIAD                COUNT\n",
      "--------------------------\n",
      "003                221,189\n",
      "012                      0\n",
      "102                 48,245\n",
      "021D                     0\n",
      "021U                     0\n",
      "021C                     0\n",
      "111D                     0\n",
      "111U                     0\n",
      "030T                     0\n",
      "030C                     0\n",
      "201                  4,070\n",
      "120D                     0\n",
      "120U                     0\n",
      "120C                     0\n",
      "210                      0\n",
      "300                    315\n"
     ]
    }
   ],
   "source": [
    "print(\"%s %s\" % ('TRIAD'.ljust(10), 'COUNT'.rjust(15)))\n",
    "print(\"--------------------------\")\n",
    "for triad, count in nx.triadic_census(G.to_directed()).items():\n",
    "    print(\"%s %s\" % (triad.ljust(10), '{:,d}'.format(count).rjust(15)))"
   ]
  },
  {
   "cell_type": "markdown",
   "metadata": {},
   "source": [
    "There are 221,189 \"empties\" in the Nyakatoke network. A total of 48,245 triads with just one edge; 4,070 so called \"two stars\" and just 315 triangles. However transitivity is about three times density. The graph is clustered.\n",
    "<br>\n",
    "<br>\n",
    "Recently, Matt Jackson and co-authors introduced the notion of links being \"supported\" (see Jackson, Rodriguez-Barrquer and Tan, 2012, _American Economic Review_. The notion of support is closely related to transitivity, but measured differently. We can calculate support using a few manipulations of the adjacency matrix."
   ]
  },
  {
   "cell_type": "code",
   "execution_count": 26,
   "metadata": {},
   "outputs": [
    {
     "name": "stderr",
     "output_type": "stream",
     "text": [
      "/var/folders/xk/_7lm526x25v801z84vrr9yzc0000gn/T/ipykernel_21950/1789127954.py:1: FutureWarning: adjacency_matrix will return a scipy.sparse array instead of a matrix in Networkx 3.0.\n",
      "  D = nx.adjacency_matrix(G) # Get Nyakatoke adjacency matrix as a Scipy sparse matrix object\n"
     ]
    },
    {
     "name": "stdout",
     "output_type": "stream",
     "text": [
      "80.4 of all links in Nyakatoke are supported by a common friend.\n",
      "On average, linked households in Nyakatoke share 1.9 friends in common.\n"
     ]
    }
   ],
   "source": [
    "D = nx.adjacency_matrix(G) # Get Nyakatoke adjacency matrix as a Scipy sparse matrix object\n",
    "D2 = D*D                   # Matrix square of D\n",
    "\n",
    "# The {i,j} element of D2 gives the number of links agents i and j share in common\n",
    "# Get multi-indices for lower triangle of N x N matrix\n",
    "ij_LowTri = np.tril_indices(N, -1)\n",
    "\n",
    "# Compute fraction of links that are supported\n",
    "support =  np.sum((D.multiply(D2 != 0))[ij_LowTri]) / np.sum(D[ij_LowTri])\n",
    "\n",
    "# Compute \"average support\" (see below)\n",
    "avg_support =  np.sum((D.multiply(D2))[ij_LowTri]) / np.sum(D[ij_LowTri])\n",
    "\n",
    "print(\"%3.1f\" % (100*support) + \" of all links in Nyakatoke are supported by a common friend.\")\n",
    "print(\"On average, linked households in Nyakatoke share \" + \"%3.1f\" % avg_support + \" friends in common.\")"
   ]
  },
  {
   "cell_type": "markdown",
   "metadata": {},
   "source": [
    "Links in Nyaktoke are heavily supported. Interestingly the figure of 80 percent is quite close to that across 75 villages in Karnataka in southern India as reported by Jackson, Rodriguez-Barrquer and Tan (2012). On average linked households in Nyakatoke share 1.9 friends in common."
   ]
  },
  {
   "cell_type": "markdown",
   "metadata": {},
   "source": [
    "### Homophily\n",
    "Next we compute the assortativity coefficient for log household livestock and land wealt. The coefficient suggest that there is modest assortative matching on this attribute."
   ]
  },
  {
   "cell_type": "code",
   "execution_count": 27,
   "metadata": {},
   "outputs": [
    {
     "name": "stdout",
     "output_type": "stream",
     "text": [
      "Assortativity coefficient (log wealth) : 0.073\n"
     ]
    }
   ],
   "source": [
    "print(\"Assortativity coefficient (log wealth) : %0.3f\" % nx.numeric_assortativity_coefficient(G, 'log_wealth'))"
   ]
  },
  {
   "cell_type": "markdown",
   "metadata": {},
   "source": [
    "### Create a directed graph and node attribute dictionary for use in testing paper"
   ]
  },
  {
   "cell_type": "code",
   "execution_count": 28,
   "metadata": {},
   "outputs": [],
   "source": [
    "Nyakatoke_Arcs = []\n",
    "\n",
    "# Clean up househould identifiers in directed dataset\n",
    "# Convert hh1 to string and add leading zeros (to matched with hh_act and hh_var dataframes created above)\n",
    "Nyakatoke_dir.loc[:,'hh1'] = Nyakatoke_dir['hh1'].apply(str).str.zfill(5)\n",
    "\n",
    "# remove decimal and digits to its right\n",
    "Nyakatoke_dir.loc[:,'hh1'] = Nyakatoke_dir['hh1'].apply(str).str[0:3]\n",
    "\n",
    "# Repeat conversions for hh2\n",
    "Nyakatoke_dir.loc[:,'hh2'] = Nyakatoke_dir['hh2'].apply(str).str.zfill(5)\n",
    "Nyakatoke_dir.loc[:,'hh2'] = Nyakatoke_dir['hh2'].apply(str).str[0:3]\n",
    "\n",
    "for index, row in Nyakatoke_dir.iterrows():  \n",
    "    Nyakatoke_Arcs.append((row['hh1'], row['hh2']))"
   ]
  },
  {
   "cell_type": "code",
   "execution_count": 29,
   "metadata": {},
   "outputs": [],
   "source": [
    "# Categorize households into 9 bins based on religion and wealth\n",
    "# Construct dictionary with hh1 as 'key' and religion x wealth cell as 'items'\n",
    "\n",
    "# first construct religion dictionary\n",
    "hh_religion = {}\n",
    "\n",
    "for index, row in Nyakatoke_dyad.iterrows():\n",
    "    hh_religion.setdefault(row['hh1'], []).append(row['religion1'])\n",
    "    hh_religion.setdefault(row['hh2'], []).append(row['religion2']) \n",
    "\n",
    "# Remove duplicate religion measures    \n",
    "for hh in hh_religion:\n",
    "    hh_religion[hh] = list(set(hh_religion[hh]))[0]"
   ]
  },
  {
   "cell_type": "code",
   "execution_count": 30,
   "metadata": {},
   "outputs": [],
   "source": [
    "Nyakatoke_Attr = {}\n",
    "\n",
    "for hh in hh_wealth:\n",
    "    \n",
    "    # Update Nyakatoke_Attr dictionary\n",
    "    Nyakatoke_Attr.setdefault(hh, [])\n",
    "    \n",
    "    # Partition households into wealth-religion groups\n",
    "    if ((hh_wealth[hh] == 'very poor') | (hh_wealth[hh] == 'poor')) & (hh_religion[hh] == 'Muslim'):\n",
    "        Nyakatoke_Attr[hh] = {'wealth_X_religion' : 'poor_X_Muslim'}        \n",
    "    elif ((hh_wealth[hh] == 'very poor') | (hh_wealth[hh] == 'poor')) & (hh_religion[hh] == 'Lutheran'):\n",
    "        Nyakatoke_Attr[hh] = {'wealth_X_religion' : 'poor_X_Lutheran'}\n",
    "    elif ((hh_wealth[hh] == 'very poor') | (hh_wealth[hh] == 'poor')) & (hh_religion[hh] == 'Catholic'):\n",
    "        Nyakatoke_Attr[hh] = {'wealth_X_religion' : 'poor_X_Catholic'}    \n",
    "    elif (hh_wealth[hh] == 'middle') & (hh_religion[hh] == 'Muslim'):\n",
    "        Nyakatoke_Attr[hh] = {'wealth_X_religion' : 'middle_X_Muslim'}        \n",
    "    elif (hh_wealth[hh] == 'middle') & (hh_religion[hh] == 'Lutheran'):\n",
    "        Nyakatoke_Attr[hh] = {'wealth_X_religion' : 'middle_X_Lutheran'}\n",
    "    elif (hh_wealth[hh] == 'middle') & (hh_religion[hh] == 'Catholic'):\n",
    "        Nyakatoke_Attr[hh] = {'wealth_X_religion' : 'middle_X_Catholic'} \n",
    "    elif (hh_wealth[hh] == 'rich') & (hh_religion[hh] == 'Muslim'):\n",
    "        Nyakatoke_Attr[hh] = {'wealth_X_religion' : 'rich_X_Muslim'}        \n",
    "    elif (hh_wealth[hh] == 'rich') & (hh_religion[hh] == 'Lutheran'):\n",
    "        Nyakatoke_Attr[hh] = {'wealth_X_religion' : 'rich_X_Lutheran'}\n",
    "    elif (hh_wealth[hh] == 'rich') & (hh_religion[hh] == 'Catholic'):\n",
    "        Nyakatoke_Attr[hh] = {'wealth_X_religion' : 'rich_X_Catholic'}          \n",
    "    "
   ]
  },
  {
   "cell_type": "code",
   "execution_count": 31,
   "metadata": {},
   "outputs": [
    {
     "data": {
      "text/plain": [
       "{'rich_X_Catholic': 10,\n",
       " 'poor_X_Catholic': 23,\n",
       " 'middle_X_Catholic': 16,\n",
       " 'middle_X_Lutheran': 15,\n",
       " 'poor_X_Lutheran': 22,\n",
       " 'rich_X_Muslim': 5,\n",
       " 'middle_X_Muslim': 8,\n",
       " 'poor_X_Muslim': 11,\n",
       " 'rich_X_Lutheran': 9}"
      ]
     },
     "execution_count": 31,
     "metadata": {},
     "output_type": "execute_result"
    }
   ],
   "source": [
    "AttrDis = {}\n",
    "\n",
    "for hh in Nyakatoke_Attr:\n",
    "    cat = Nyakatoke_Attr[hh]['wealth_X_religion']\n",
    "    if cat in AttrDis:\n",
    "        AttrDis[cat] += 1\n",
    "    else:\n",
    "        AttrDis[cat] = 1\n",
    "        \n",
    "AttrDis        "
   ]
  },
  {
   "cell_type": "code",
   "execution_count": 33,
   "metadata": {},
   "outputs": [],
   "source": [
    "import pickle\n",
    "\n",
    "# create a binary pickle file \n",
    "f = open(\"Nyakatoke_Arcs.pkl\",\"wb\")\n",
    "\n",
    "# write the python object (dict) to pickle file\n",
    "pickle.dump(Nyakatoke_Arcs,f)\n",
    "\n",
    "# close file\n",
    "f.close()\n",
    "\n",
    "# create a binary pickle file \n",
    "f = open(\"Nyakatoke_Attr.pkl\",\"wb\")\n",
    "\n",
    "# write the python object (dict) to pickle file\n",
    "pickle.dump(Nyakatoke_Attr,f)\n",
    "\n",
    "# close file\n",
    "f.close()"
   ]
  },
  {
   "cell_type": "markdown",
   "metadata": {},
   "source": [
    "### Save dyadic data and adjacency matrix for future use\n",
    "We will revisit the Nyakatoke network in subsequent lectures. This final code snippet saves a dyadic dataset of links and attributes for the subset of households that have no missing data on key variables. It also saves a copy of the adjacency matrix."
   ]
  },
  {
   "cell_type": "code",
   "execution_count": 34,
   "metadata": {},
   "outputs": [],
   "source": [
    "es = Nyakatoke_dyad[[\"hh1\", \"hh2\", \"links\", \"kinship\", \"distance\", \"clan1\", \"clan2\", \"wealth1\", \"wealth2\", \\\n",
    "                     \"religion1\", \"religion2\", \"primary1\", \"primary2\", \"head_age1\", \"head_age2\", \\\n",
    "                     \"head_sex1\", \"head_sex2\"]] \n",
    "\n",
    "# Only retain complete cases\n",
    "es = es.dropna().sort_values(['hh1', 'hh2'], ascending=[True, True])\n",
    "\n",
    "# Save dataframe to cvs file\n",
    "es.to_csv(data+\"Created/Nyakatoke_Estimation_Sample.csv\")\n",
    "\n",
    "# Save adjacency matrix\n",
    "from scipy import io\n",
    "io.mmwrite(data+\"Created/Nyakatoke_Adjacency.mtx\", D)"
   ]
  },
  {
   "cell_type": "code",
   "execution_count": 35,
   "metadata": {},
   "outputs": [
    {
     "data": {
      "text/html": [
       "<style>\n",
       "\n",
       "html {\n",
       "  font-size: 62.5% !important; }\n",
       "body {\n",
       "  font-size: 1.5em !important; /* currently ems cause chrome bug misinterpreting rems on body element */\n",
       "  line-height: 1.6 !important;\n",
       "  font-weight: 400 !important;\n",
       "  font-family: \"Raleway\", \"HelveticaNeue\", \"Helvetica Neue\", Helvetica, Arial, sans-serif !important;\n",
       "  color: #222 !important; }\n",
       "\n",
       "div{ border-radius: 0px !important;  }\n",
       "div.CodeMirror-sizer{ background: rgb(244, 244, 248) !important; }\n",
       "div.input_area{ background: rgb(244, 244, 248) !important; }\n",
       "\n",
       "div.out_prompt_overlay:hover{ background: rgb(244, 244, 248) !important; }\n",
       "div.input_prompt:hover{ background: rgb(244, 244, 248) !important; }\n",
       "\n",
       "h1, h2, h3, h4, h5, h6 {\n",
       "  color: #333 !important;\n",
       "  margin-top: 0 !important;\n",
       "  margin-bottom: 2rem !important;\n",
       "  font-weight: 300 !important; }\n",
       "h1 { font-size: 4.0rem !important; line-height: 1.2 !important;  letter-spacing: -.1rem !important;}\n",
       "h2 { font-size: 3.6rem !important; line-height: 1.25 !important; letter-spacing: -.1rem !important; }\n",
       "h3 { font-size: 3.0rem !important; line-height: 1.3 !important;  letter-spacing: -.1rem !important; }\n",
       "h4 { font-size: 2.4rem !important; line-height: 1.35 !important; letter-spacing: -.08rem !important; }\n",
       "h5 { font-size: 1.8rem !important; line-height: 1.5 !important;  letter-spacing: -.05rem !important; }\n",
       "h6 { font-size: 1.5rem !important; line-height: 1.6 !important;  letter-spacing: 0 !important; }\n",
       "\n",
       "@media (min-width: 550px) {\n",
       "  h1 { font-size: 5.0rem !important; }\n",
       "  h2 { font-size: 4.2rem !important; }\n",
       "  h3 { font-size: 3.6rem !important; }\n",
       "  h4 { font-size: 3.0rem !important; }\n",
       "  h5 { font-size: 2.4rem !important; }\n",
       "  h6 { font-size: 1.5rem !important; }\n",
       "}\n",
       "\n",
       "p {\n",
       "  margin-top: 0 !important; }\n",
       "  \n",
       "a {\n",
       "  color: #1EAEDB !important; }\n",
       "a:hover {\n",
       "  color: #0FA0CE !important; }\n",
       "  \n",
       "code {\n",
       "  padding: .2rem .5rem !important;\n",
       "  margin: 0 .2rem !important;\n",
       "  font-size: 90% !important;\n",
       "  white-space: nowrap !important;\n",
       "  background: #F1F1F1 !important;\n",
       "  border: 1px solid #E1E1E1 !important;\n",
       "  border-radius: 4px !important; }\n",
       "pre > code {\n",
       "  display: block !important;\n",
       "  padding: 1rem 1.5rem !important;\n",
       "  white-space: pre !important; }\n",
       "  \n",
       "button{ border-radius: 0px !important; }\n",
       ".navbar-inner{ background-image: none !important;  }\n",
       "select, textarea{ border-radius: 0px !important; }\n",
       "\n",
       "</style>"
      ],
      "text/plain": [
       "<IPython.core.display.HTML object>"
      ]
     },
     "execution_count": 35,
     "metadata": {},
     "output_type": "execute_result"
    }
   ],
   "source": [
    "# This imports an attractive notebook style from Github\n",
    "from IPython.display import HTML\n",
    "from urllib.request import urlopen\n",
    "html = urlopen('http://bit.ly/1Bf5Hft')\n",
    "HTML(html.read().decode('utf-8'))"
   ]
  }
 ],
 "metadata": {
  "anaconda-cloud": {},
  "kernelspec": {
   "display_name": "Python 3",
   "language": "python",
   "name": "python3"
  },
  "language_info": {
   "codemirror_mode": {
    "name": "ipython",
    "version": 3
   },
   "file_extension": ".py",
   "mimetype": "text/x-python",
   "name": "python",
   "nbconvert_exporter": "python",
   "pygments_lexer": "ipython3",
   "version": "3.9.13"
  }
 },
 "nbformat": 4,
 "nbformat_minor": 1
}
